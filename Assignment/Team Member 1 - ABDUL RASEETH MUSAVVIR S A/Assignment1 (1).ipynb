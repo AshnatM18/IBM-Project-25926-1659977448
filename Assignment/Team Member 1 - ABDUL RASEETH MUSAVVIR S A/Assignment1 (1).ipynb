{
 "cells": [
  {
   "cell_type": "markdown",
   "id": "45c3af3b",
   "metadata": {},
   "source": [
    "**Basic Python**"
   ]
  },
  {
   "cell_type": "markdown",
   "id": "ce9bea20",
   "metadata": {},
   "source": [
    "**1. Split this string**"
   ]
  },
  {
   "cell_type": "code",
   "execution_count": 7,
   "id": "69050339",
   "metadata": {},
   "outputs": [],
   "source": [
    "s = \"Hi There!\""
   ]
  },
  {
   "cell_type": "code",
   "execution_count": 10,
   "id": "0702cf99",
   "metadata": {},
   "outputs": [
    {
     "name": "stdout",
     "output_type": "stream",
     "text": [
      "['Hi', 'There!']\n"
     ]
    }
   ],
   "source": [
    "s = \"Hi There!\"\n",
    "s = s.split()\n",
    "\n",
    "print(s)"
   ]
  },
  {
   "cell_type": "markdown",
   "id": "3b227397-c060-403a-ad8c-0c7f7f349253",
   "metadata": {},
   "source": [
    "**2. Use .format() to print the following string**"
   ]
  },
  {
   "cell_type": "markdown",
   "id": "3888c199-bb9b-4fe3-9eed-f0949812f5d9",
   "metadata": {},
   "source": [
    "**Output should be: The diameter of Earth is 12742 kilometers.**"
   ]
  },
  {
   "cell_type": "code",
   "execution_count": 11,
   "id": "fe4af67f-34e4-4cec-93d0-63b843c2b339",
   "metadata": {},
   "outputs": [],
   "source": [
    "planet = \"Earth\"\n",
    "diameter = 12742"
   ]
  },
  {
   "cell_type": "code",
   "execution_count": 12,
   "id": "3be04a2c-d873-4348-8b69-681d3d5d3b5c",
   "metadata": {},
   "outputs": [
    {
     "name": "stdout",
     "output_type": "stream",
     "text": [
      "The diameter of the Earth is 12742 kilometers.\n"
     ]
    }
   ],
   "source": [
    "print(\"The diameter of the {} is {} kilometers.\".format(planet , diameter))"
   ]
  },
  {
   "cell_type": "markdown",
   "id": "f80fd65c-0838-453d-bb93-62dfcddca5a6",
   "metadata": {},
   "source": [
    "**3. In this nest dictionary grab the word \"hello\"**"
   ]
  },
  {
   "cell_type": "code",
   "execution_count": 13,
   "id": "0f77765d-c7d9-454f-9b0e-49d9159de6fe",
   "metadata": {},
   "outputs": [],
   "source": [
    "d = {'k1':[1,2,3,{'tricky':['oh','man','inception',{'target':[1,2,3,'hello']}]}]}"
   ]
  },
  {
   "cell_type": "code",
   "execution_count": 14,
   "id": "d1a5169d-e5ef-4409-9764-848f959c6399",
   "metadata": {},
   "outputs": [
    {
     "name": "stdout",
     "output_type": "stream",
     "text": [
      "hello\n"
     ]
    }
   ],
   "source": [
    "d = {'k1':[1,2,3,{'tricky':['oh','man','inception',{'target':[1,2,3,'hello']}]}]}\n",
    "\n",
    "print(d['k1'][3]['tricky'][3]['target'][3])\n"
   ]
  },
  {
   "cell_type": "markdown",
   "id": "3c1e3e7a-69ae-4f45-bbcd-eb5ed544b4c8",
   "metadata": {},
   "source": [
    "**Numpy**\n"
   ]
  },
  {
   "cell_type": "code",
   "execution_count": 15,
   "id": "86f33f80-d7cb-421b-84f0-272b8d0547a3",
   "metadata": {},
   "outputs": [],
   "source": [
    "import numpy as np"
   ]
  },
  {
   "cell_type": "markdown",
   "id": "82feb96a-ff3b-47ab-ac3b-0b98f3314a9d",
   "metadata": {},
   "source": [
    "**4.1 Create an array of 10 zeros?**"
   ]
  },
  {
   "cell_type": "markdown",
   "id": "4ac541c5-7541-4a80-adb6-c1c6b212222b",
   "metadata": {},
   "source": [
    "**4.2 Create an array of 10 fives?**"
   ]
  },
  {
   "cell_type": "code",
   "execution_count": 16,
   "id": "6b2b02e8-e4f5-4a94-9f5b-b8117b297cf6",
   "metadata": {},
   "outputs": [
    {
     "name": "stdout",
     "output_type": "stream",
     "text": [
      "An array of 10 zeros:\n",
      "[0. 0. 0. 0. 0. 0. 0. 0. 0. 0.]\n"
     ]
    }
   ],
   "source": [
    "#4.1 Create an array of 10 zeros\n",
    "array=np.zeros(10)\n",
    "print(\"An array of 10 zeros:\")\n",
    "print(array)"
   ]
  },
  {
   "cell_type": "code",
   "execution_count": 17,
   "id": "c1e0dbdb-c9c7-48fd-93c2-1d1788d7444f",
   "metadata": {},
   "outputs": [
    {
     "name": "stdout",
     "output_type": "stream",
     "text": [
      "An array of 10 fives:\n",
      "[5. 5. 5. 5. 5. 5. 5. 5. 5. 5.]\n"
     ]
    }
   ],
   "source": [
    "#4.2 Create an array of 10 fives\n",
    "array=np.ones(10)*5\n",
    "print(\"An array of 10 fives:\")\n",
    "print(array)"
   ]
  },
  {
   "cell_type": "markdown",
   "id": "5fcdca6a-fc41-4e78-9beb-6521981a1b2a",
   "metadata": {},
   "source": [
    "**5. Create an array of all the even integers from 20 to 35**"
   ]
  },
  {
   "cell_type": "code",
   "execution_count": 18,
   "id": "ff908e4e-0be2-403f-9249-6767a7239238",
   "metadata": {},
   "outputs": [
    {
     "name": "stdout",
     "output_type": "stream",
     "text": [
      "Array of all the even integers from 20 to 35\n",
      "[20 22 24 26 28 30 32 34]\n"
     ]
    }
   ],
   "source": [
    "array=np.arange(20,35,2)\n",
    "print(\"Array of all the even integers from 20 to 35\")\n",
    "print(array)"
   ]
  },
  {
   "cell_type": "markdown",
   "id": "8dc46de4-f85b-451e-a3c5-3ecb66a09b42",
   "metadata": {},
   "source": [
    "**6. Create a 3x3 matrix with values ranging from 0 to 8**"
   ]
  },
  {
   "cell_type": "code",
   "execution_count": 19,
   "id": "6d43a68d-98e9-43d2-a3dc-7e55b9844338",
   "metadata": {},
   "outputs": [
    {
     "name": "stdout",
     "output_type": "stream",
     "text": [
      "[[0 1 2]\n",
      " [3 4 5]\n",
      " [6 7 8]]\n"
     ]
    }
   ],
   "source": [
    "a =  np.arange(0, 9).reshape(3,3)\n",
    "print(a)"
   ]
  },
  {
   "cell_type": "markdown",
   "id": "218e58b4-fb1f-4a7b-9e4c-1f15d2a54af0",
   "metadata": {},
   "source": [
    "**7. Concatenate a and b**"
   ]
  },
  {
   "cell_type": "markdown",
   "id": "1a43ffb6-23d8-4fbf-9c2f-fc6cfcfd40bb",
   "metadata": {},
   "source": [
    "**a = np.array([1, 2, 3]), b = np.array([4, 5, 6])**"
   ]
  },
  {
   "cell_type": "code",
   "execution_count": 20,
   "id": "057e83c3-c79b-4356-8fbe-c4dea65aff91",
   "metadata": {},
   "outputs": [
    {
     "data": {
      "text/plain": [
       "array([1, 2, 3, 4, 5, 6])"
      ]
     },
     "execution_count": 20,
     "metadata": {},
     "output_type": "execute_result"
    }
   ],
   "source": [
    "a = np.array([[1, 2, 3]])\n",
    "b = np.array([[4, 5, 6]])\n",
    "np.concatenate((a, b), axis=None)"
   ]
  },
  {
   "cell_type": "markdown",
   "id": "7495db2d-29d4-470a-9726-9a68f81062dc",
   "metadata": {},
   "source": [
    "**Pandas**"
   ]
  },
  {
   "cell_type": "markdown",
   "id": "797c611c-6ad8-439a-9cbf-c4b71bd44085",
   "metadata": {},
   "source": [
    "**8. Create a dataframe with 3 rows and 2 columns**"
   ]
  },
  {
   "cell_type": "code",
   "execution_count": 21,
   "id": "c52e0a74-a4b3-4c87-8d60-8ee2ccdb1bee",
   "metadata": {},
   "outputs": [],
   "source": [
    "import pandas as pd"
   ]
  },
  {
   "cell_type": "code",
   "execution_count": 22,
   "id": "70a8f12e-cb71-4e7a-a164-91f7e3d5b741",
   "metadata": {},
   "outputs": [
    {
     "data": {
      "text/html": [
       "<div>\n",
       "<style scoped>\n",
       "    .dataframe tbody tr th:only-of-type {\n",
       "        vertical-align: middle;\n",
       "    }\n",
       "\n",
       "    .dataframe tbody tr th {\n",
       "        vertical-align: top;\n",
       "    }\n",
       "\n",
       "    .dataframe thead th {\n",
       "        text-align: right;\n",
       "    }\n",
       "</style>\n",
       "<table border=\"1\" class=\"dataframe\">\n",
       "  <thead>\n",
       "    <tr style=\"text-align: right;\">\n",
       "      <th></th>\n",
       "      <th></th>\n",
       "    </tr>\n",
       "  </thead>\n",
       "  <tbody>\n",
       "    <tr>\n",
       "      <th>0</th>\n",
       "      <td>450</td>\n",
       "    </tr>\n",
       "    <tr>\n",
       "      <th>1</th>\n",
       "      <td>260</td>\n",
       "    </tr>\n",
       "    <tr>\n",
       "      <th>2</th>\n",
       "      <td>370</td>\n",
       "    </tr>\n",
       "  </tbody>\n",
       "</table>\n",
       "</div>"
      ],
      "text/plain": [
       "      \n",
       "0  450\n",
       "1  260\n",
       "2  370"
      ]
     },
     "execution_count": 22,
     "metadata": {},
     "output_type": "execute_result"
    }
   ],
   "source": [
    "data = [450,260,370]\n",
    "  \n",
    "df = pd.DataFrame(data, columns=[''])\n",
    "  \n",
    "# print dataframe.\n",
    "df"
   ]
  },
  {
   "cell_type": "markdown",
   "id": "6debd20b-3f91-421a-9de4-fa6a29024805",
   "metadata": {},
   "source": [
    "**9. Generate the series of dates from 1st Jan, 2023 to 10th Feb, 2023**"
   ]
  },
  {
   "cell_type": "code",
   "execution_count": 23,
   "id": "dea00df2-f464-4a0f-8100-3d12e7a9e8ce",
   "metadata": {},
   "outputs": [
    {
     "data": {
      "text/plain": [
       "[Timestamp('2023-01-01 00:00:00', freq='D'),\n",
       " Timestamp('2023-01-02 00:00:00', freq='D'),\n",
       " Timestamp('2023-01-03 00:00:00', freq='D'),\n",
       " Timestamp('2023-01-04 00:00:00', freq='D'),\n",
       " Timestamp('2023-01-05 00:00:00', freq='D'),\n",
       " Timestamp('2023-01-06 00:00:00', freq='D'),\n",
       " Timestamp('2023-01-07 00:00:00', freq='D'),\n",
       " Timestamp('2023-01-08 00:00:00', freq='D'),\n",
       " Timestamp('2023-01-09 00:00:00', freq='D'),\n",
       " Timestamp('2023-01-10 00:00:00', freq='D'),\n",
       " Timestamp('2023-01-11 00:00:00', freq='D'),\n",
       " Timestamp('2023-01-12 00:00:00', freq='D'),\n",
       " Timestamp('2023-01-13 00:00:00', freq='D'),\n",
       " Timestamp('2023-01-14 00:00:00', freq='D'),\n",
       " Timestamp('2023-01-15 00:00:00', freq='D'),\n",
       " Timestamp('2023-01-16 00:00:00', freq='D'),\n",
       " Timestamp('2023-01-17 00:00:00', freq='D'),\n",
       " Timestamp('2023-01-18 00:00:00', freq='D'),\n",
       " Timestamp('2023-01-19 00:00:00', freq='D'),\n",
       " Timestamp('2023-01-20 00:00:00', freq='D'),\n",
       " Timestamp('2023-01-21 00:00:00', freq='D'),\n",
       " Timestamp('2023-01-22 00:00:00', freq='D'),\n",
       " Timestamp('2023-01-23 00:00:00', freq='D'),\n",
       " Timestamp('2023-01-24 00:00:00', freq='D'),\n",
       " Timestamp('2023-01-25 00:00:00', freq='D'),\n",
       " Timestamp('2023-01-26 00:00:00', freq='D'),\n",
       " Timestamp('2023-01-27 00:00:00', freq='D'),\n",
       " Timestamp('2023-01-28 00:00:00', freq='D'),\n",
       " Timestamp('2023-01-29 00:00:00', freq='D'),\n",
       " Timestamp('2023-01-30 00:00:00', freq='D'),\n",
       " Timestamp('2023-01-31 00:00:00', freq='D'),\n",
       " Timestamp('2023-02-01 00:00:00', freq='D'),\n",
       " Timestamp('2023-02-02 00:00:00', freq='D'),\n",
       " Timestamp('2023-02-03 00:00:00', freq='D'),\n",
       " Timestamp('2023-02-04 00:00:00', freq='D'),\n",
       " Timestamp('2023-02-05 00:00:00', freq='D'),\n",
       " Timestamp('2023-02-06 00:00:00', freq='D'),\n",
       " Timestamp('2023-02-07 00:00:00', freq='D'),\n",
       " Timestamp('2023-02-08 00:00:00', freq='D'),\n",
       " Timestamp('2023-02-09 00:00:00', freq='D'),\n",
       " Timestamp('2023-02-10 00:00:00', freq='D')]"
      ]
     },
     "execution_count": 23,
     "metadata": {},
     "output_type": "execute_result"
    }
   ],
   "source": [
    "pd.date_range(start=\"2023-01-01\",end=\"2023-02-10\").tolist()"
   ]
  },
  {
   "cell_type": "markdown",
   "id": "775fcfa1-3070-4bdf-897a-3f5c681dd6fc",
   "metadata": {},
   "source": [
    "**10. Create 2D list to DataFrame**"
   ]
  },
  {
   "cell_type": "markdown",
   "id": "a7a81216-222d-4967-9845-763093eb4d7c",
   "metadata": {},
   "source": [
    "**lists = [[1, 'aaa', 22], [2, 'bbb', 25], [3, 'ccc', 24]]**"
   ]
  },
  {
   "cell_type": "code",
   "execution_count": 24,
   "id": "da27ad2d-2c2b-4b9f-8835-67c9598a09a8",
   "metadata": {},
   "outputs": [],
   "source": [
    "lists = [[1, 'aaa', 22], [2, 'bbb', 25], [3, 'ccc', 24]]"
   ]
  },
  {
   "cell_type": "code",
   "execution_count": 25,
   "id": "712cca2e-3f46-410c-9e1c-d5173c7a8e06",
   "metadata": {},
   "outputs": [
    {
     "name": "stdout",
     "output_type": "stream",
     "text": [
      "             \n",
      "0  1  aaa  22\n",
      "1  2  bbb  25\n",
      "2  3  ccc  24\n"
     ]
    }
   ],
   "source": [
    "df = pd.DataFrame(lists, columns = ['', '',''])\n",
    "print(df )"
   ]
  },
  {
   "cell_type": "code",
   "execution_count": null,
   "id": "e488e9a9-941d-4cf9-96ca-e6d0b9de4c3c",
   "metadata": {},
   "outputs": [],
   "source": []
  }
 ],
 "metadata": {
  "kernelspec": {
   "display_name": "Python 3 (ipykernel)",
   "language": "python",
   "name": "python3"
  },
  "language_info": {
   "codemirror_mode": {
    "name": "ipython",
    "version": 3
   },
   "file_extension": ".py",
   "mimetype": "text/x-python",
   "name": "python",
   "nbconvert_exporter": "python",
   "pygments_lexer": "ipython3",
   "version": "3.9.13"
  }
 },
 "nbformat": 4,
 "nbformat_minor": 5
}
